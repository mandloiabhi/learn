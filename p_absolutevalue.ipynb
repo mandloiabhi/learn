{
 "cells": [
  {
   "cell_type": "code",
   "execution_count": 1,
   "id": "234dd41e",
   "metadata": {},
   "outputs": [
    {
     "name": "stdout",
     "output_type": "stream",
     "text": [
      "123\n",
      "123\n",
      "input number was non negative number\n",
      "end of program\n"
     ]
    }
   ],
   "source": [
    "n=int(input())\n",
    "x=n\n",
    "if n<0:\n",
    "    n=n*-1\n",
    "print(n)  \n",
    "if x==n:\n",
    "    print(\"input number was non negative number\")\n",
    "else:\n",
    "    print(\"input number was negative number\")\n",
    "print(\"end of program\")    "
   ]
  },
  {
   "cell_type": "code",
   "execution_count": null,
   "id": "4ce3514c",
   "metadata": {},
   "outputs": [],
   "source": []
  }
 ],
 "metadata": {
  "kernelspec": {
   "display_name": "Python 3",
   "language": "python",
   "name": "python3"
  },
  "language_info": {
   "codemirror_mode": {
    "name": "ipython",
    "version": 3
   },
   "file_extension": ".py",
   "mimetype": "text/x-python",
   "name": "python",
   "nbconvert_exporter": "python",
   "pygments_lexer": "ipython3",
   "version": "3.9.5"
  }
 },
 "nbformat": 4,
 "nbformat_minor": 5
}
